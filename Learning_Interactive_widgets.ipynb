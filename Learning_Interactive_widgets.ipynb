{
 "cells": [
  {
   "cell_type": "code",
   "execution_count": 31,
   "id": "af95d8d1",
   "metadata": {},
   "outputs": [],
   "source": [
    "import matplotlib.pyplot as plt\n",
    "import numpy as np\n",
    "import ipywidgets as widgets\n",
    "from ipywidgets import interact,interactive,FloatSlider\n",
    "from IPython.display import display"
   ]
  },
  {
   "cell_type": "code",
   "execution_count": 32,
   "id": "fe12e573",
   "metadata": {},
   "outputs": [
    {
     "data": {
      "application/vnd.jupyter.widget-view+json": {
       "model_id": "602b661ad5d745dca413358a988ac733",
       "version_major": 2,
       "version_minor": 0
      },
      "text/plain": [
       "interactive(children=(FloatSlider(value=2.0, description='Slope:', max=10.0, min=-10.0), FloatSlider(value=1.0…"
      ]
     },
     "metadata": {},
     "output_type": "display_data"
    }
   ],
   "source": [
    "np.random.seed(0)\n",
    "x = np.linspace(0, 10, 100)\n",
    "y = 2 * x + 1 + np.random.randn(100)\n",
    "\n",
    "initial_slope = 2\n",
    "initial_intercept = 1\n",
    "\n",
    "def lin_reg(x,y):\n",
    "    mod_x = ((np.vstack((np.ones(len(x)),x))).T) # add the intercept\n",
    "    return np.linalg.inv(mod_x.T@mod_x)@(mod_x.T@y),mod_x ###Run regression get betas and modified x with constant\n",
    "\n",
    "def pred(x,y):\n",
    "    betas,mod_x = lin_reg(x,y)\n",
    "    return mod_x@betas  #######get the predicted values\n",
    "\n",
    "def update_plot(slope, intercept):\n",
    "    plt.figure(figsize=(8, 6))\n",
    "    plt.scatter(x, y, label='Data')\n",
    "    plt.plot(x, slope * x + intercept, color='red', label=f'Line: y = {slope:.2f}x + {intercept:.2f}')\n",
    "    plt.plot(x,pred(x,y),label='Regression predicted line')\n",
    "    plt.xlabel('X')\n",
    "    plt.ylabel('Y')\n",
    "    plt.legend()\n",
    "    plt.title('Interactive Linear Regression')\n",
    "    plt.grid(True)\n",
    "    plt.show()\n",
    "\n",
    "slope_slider = FloatSlider(value=initial_slope, min=-10, max=10, step=0.1, description='Slope:')\n",
    "intercept_slider = FloatSlider(value=initial_intercept, min=-10, max=10, step=0.1, description='Intercept:')\n",
    "\n",
    "interactive_plot = interactive(update_plot, slope=slope_slider, intercept=intercept_slider)\n",
    "interactive_plot"
   ]
  },
  {
   "cell_type": "code",
   "execution_count": null,
   "id": "3e233550",
   "metadata": {},
   "outputs": [],
   "source": []
  }
 ],
 "metadata": {
  "kernelspec": {
   "display_name": "Python 3 (ipykernel)",
   "language": "python",
   "name": "python3"
  },
  "language_info": {
   "codemirror_mode": {
    "name": "ipython",
    "version": 3
   },
   "file_extension": ".py",
   "mimetype": "text/x-python",
   "name": "python",
   "nbconvert_exporter": "python",
   "pygments_lexer": "ipython3",
   "version": "3.9.16"
  }
 },
 "nbformat": 4,
 "nbformat_minor": 5
}
